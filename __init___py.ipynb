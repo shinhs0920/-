{
  "nbformat": 4,
  "nbformat_minor": 0,
  "metadata": {
    "colab": {
      "name": "__init__ .py",
      "provenance": [],
      "collapsed_sections": [],
      "include_colab_link": true
    },
    "kernelspec": {
      "name": "python3",
      "display_name": "Python 3"
    }
  },
  "cells": [
    {
      "cell_type": "markdown",
      "metadata": {
        "id": "view-in-github",
        "colab_type": "text"
      },
      "source": [
        "<a href=\"https://colab.research.google.com/github/shinhs0920/-/blob/master/__init___py.ipynb\" target=\"_parent\"><img src=\"https://colab.research.google.com/assets/colab-badge.svg\" alt=\"Open In Colab\"/></a>"
      ]
    },
    {
      "cell_type": "markdown",
      "metadata": {
        "id": "MDSN_G8NZcAa",
        "colab_type": "text"
      },
      "source": [
        "# * *__*init*__*.py의 용도"
      ]
    },
    {
      "cell_type": "code",
      "metadata": {
        "id": "PZAP7-EILLNH",
        "colab_type": "code",
        "colab": {}
      },
      "source": [
        "import os\n",
        "\n",
        "A = \"./game\"\n",
        "\n",
        "if not os.path.exists(A):\n",
        "  os.mkdir(A)"
      ],
      "execution_count": 0,
      "outputs": []
    },
    {
      "cell_type": "code",
      "metadata": {
        "id": "Kh_DtftjLhtO",
        "colab_type": "code",
        "colab": {}
      },
      "source": [
        "import os\n",
        "\n",
        "A = \"./game/sound\"\n",
        "\n",
        "if not os.path.exists(A):\n",
        "  os.mkdir(A)"
      ],
      "execution_count": 0,
      "outputs": []
    },
    {
      "cell_type": "code",
      "metadata": {
        "id": "aVX_Hgh7LoOS",
        "colab_type": "code",
        "colab": {}
      },
      "source": [
        "import os\n",
        "\n",
        "A = \"./game/graphic\"\n",
        "\n",
        "if not os.path.exists(A):\n",
        "  os.mkdir(A)"
      ],
      "execution_count": 0,
      "outputs": []
    },
    {
      "cell_type": "markdown",
      "metadata": {
        "id": "H2c9AiYXZ7Vs",
        "colab_type": "text"
      },
      "source": [
        "파이썬이 디렉터리를 패키지로 취급하게 만들기 위해서 __init__.py 파일이 필요하다\n",
        "<br> __inin__.py는 그냥 빈 파일일 수 있지만, 패키지의 초기화 코드를 실행하거나 __all__ 변수를 설정할 수 있다."
      ]
    },
    {
      "cell_type": "code",
      "metadata": {
        "id": "pIToRt42LsWE",
        "colab_type": "code",
        "outputId": "ac16ddbc-b87c-4066-c07b-e19460217d44",
        "colab": {
          "base_uri": "https://localhost:8080/",
          "height": 35
        }
      },
      "source": [
        "%%writefile game/__init__.py\n",
        "\n",
        "def __init___test():\n",
        "  print(\"__init__\")\n",
        "  \n"
      ],
      "execution_count": 0,
      "outputs": [
        {
          "output_type": "stream",
          "text": [
            "Overwriting game/__init__.py\n"
          ],
          "name": "stdout"
        }
      ]
    },
    {
      "cell_type": "code",
      "metadata": {
        "id": "f-FyXwGlMBVW",
        "colab_type": "code",
        "outputId": "597d8f22-6c4f-4a85-81e8-3a91fff24182",
        "colab": {
          "base_uri": "https://localhost:8080/",
          "height": 35
        }
      },
      "source": [
        "%%writefile game/sound/echo.py\n",
        "\n",
        "def echo_test():\n",
        "  print(\"echo\")"
      ],
      "execution_count": 0,
      "outputs": [
        {
          "output_type": "stream",
          "text": [
            "Overwriting game/sound/echo.py\n"
          ],
          "name": "stdout"
        }
      ]
    },
    {
      "cell_type": "code",
      "metadata": {
        "id": "Og1NWNNAMMUy",
        "colab_type": "code",
        "outputId": "f5940a27-2fbb-47ce-beae-430dd4270f7e",
        "colab": {
          "base_uri": "https://localhost:8080/",
          "height": 35
        }
      },
      "source": [
        "%%writefile game/sound/__init__.py\n",
        "\n",
        "def __init___test():\n",
        "  print(\"__init__\")\n",
        "\n"
      ],
      "execution_count": 0,
      "outputs": [
        {
          "output_type": "stream",
          "text": [
            "Overwriting game/sound/__init__.py\n"
          ],
          "name": "stdout"
        }
      ]
    },
    {
      "cell_type": "code",
      "metadata": {
        "id": "HdBogyUVN9nP",
        "colab_type": "code",
        "outputId": "11fa73be-0fa6-4c93-9bbc-a94005948720",
        "colab": {
          "base_uri": "https://localhost:8080/",
          "height": 35
        }
      },
      "source": [
        "%%writefile game/graphic/__init__.py\n",
        "\n",
        "def __init___test():\n",
        "  print(\"__init__\")\n",
        "\n"
      ],
      "execution_count": 0,
      "outputs": [
        {
          "output_type": "stream",
          "text": [
            "Overwriting game/graphic/__init__.py\n"
          ],
          "name": "stdout"
        }
      ]
    },
    {
      "cell_type": "code",
      "metadata": {
        "id": "Ak7R1QG-MVsc",
        "colab_type": "code",
        "outputId": "4d47e11f-d21e-4227-da30-872c3ac0af6e",
        "colab": {
          "base_uri": "https://localhost:8080/",
          "height": 35
        }
      },
      "source": [
        "%%writefile game/sound/wav.py\n",
        "\n",
        "def wav_test():\n",
        "  print(\"wav\")"
      ],
      "execution_count": 0,
      "outputs": [
        {
          "output_type": "stream",
          "text": [
            "Overwriting game/sound/wav.py\n"
          ],
          "name": "stdout"
        }
      ]
    },
    {
      "cell_type": "code",
      "metadata": {
        "id": "0_jhp_bnMZot",
        "colab_type": "code",
        "outputId": "6881239f-aaa4-4cc4-a878-dcb620e220c8",
        "colab": {
          "base_uri": "https://localhost:8080/",
          "height": 35
        }
      },
      "source": [
        "%%writefile game/graphic/render.py\n",
        "\n",
        "def render_test():\n",
        "  print(\"render\")"
      ],
      "execution_count": 0,
      "outputs": [
        {
          "output_type": "stream",
          "text": [
            "Overwriting game/graphic/render.py\n"
          ],
          "name": "stdout"
        }
      ]
    },
    {
      "cell_type": "markdown",
      "metadata": {
        "id": "etQ_B0vJpf-g",
        "colab_type": "text"
      },
      "source": [
        "from sound.echo import * 라고 쓰면 이상적으로는, 파일 시스템에서 패키지에 어떤 모듈들이 들어있는지 찾은 다음, 그것들 모두를 임포트 하려 할 것이다.\n",
        "<br>이렇게 하는 데는 시간이 오래 걸리고 서브 모듈을 임포트 함에 따라 어떤 서브 모듈을 명시적으로 임포트할 경우만 일어나야만 하는 원하지 않는 부수적 효과가 발생할 수 있다.\n",
        "\n",
        "<br>패키지의 __init__.py 코드가 __all__ 이라는 이름의 목록을 제공하면, 이것을 from package import * 를 만날 때 임포트 해야만 하는 모듈 이름들의 목록으로 받아들인다."
      ]
    },
    {
      "cell_type": "markdown",
      "metadata": {
        "id": "sbwIMZLupjZr",
        "colab_type": "text"
      },
      "source": [
        "all 이 정의되지 않으면, 문장 from sound.echo import * 은 패키지 sound.effects 의 모든 서브 모듈들을 현재 이름 공간으로 임포트 하지 않는다.\n",
        "이것은 오직 패키지 sound.echo 가 임포트 되도록 만들고 (init.py 에 있는 초기화 코드들이 수행될 수 있습니다), 그 패키지가 정의하는 이름들을 임포트 한다.\n",
        "이 이름들은 init.py 가 정의하는 모든 이름 (그리고 명시적으로 로드된 서브 모듈들)을 포함합니다. 이 이름들에는 사전에 import 문으로 명시적으로 로드된 패키지의 서브 모듈들 역시 포함됩니다."
      ]
    },
    {
      "cell_type": "code",
      "metadata": {
        "id": "c_jhe9DQMg58",
        "colab_type": "code",
        "colab": {}
      },
      "source": [
        "from game.sound import *"
      ],
      "execution_count": 0,
      "outputs": []
    },
    {
      "cell_type": "code",
      "metadata": {
        "id": "L1AbMuWWNvec",
        "colab_type": "code",
        "colab": {}
      },
      "source": [
        "__all__ = ['echo']"
      ],
      "execution_count": 0,
      "outputs": []
    },
    {
      "cell_type": "code",
      "metadata": {
        "id": "Pe339uTrTpyP",
        "colab_type": "code",
        "outputId": "01fffd5c-a532-46bb-c349-fcf816a6505c",
        "colab": {
          "base_uri": "https://localhost:8080/",
          "height": 35
        }
      },
      "source": [
        "echo"
      ],
      "execution_count": 0,
      "outputs": [
        {
          "output_type": "execute_result",
          "data": {
            "text/plain": [
              "<module 'game.sound.echo' from '/content/game/sound/echo.py'>"
            ]
          },
          "metadata": {
            "tags": []
          },
          "execution_count": 121
        }
      ]
    },
    {
      "cell_type": "code",
      "metadata": {
        "id": "YvRL51FxTyCy",
        "colab_type": "code",
        "outputId": "7d64395e-beab-4198-8292-fe266c253728",
        "colab": {
          "base_uri": "https://localhost:8080/",
          "height": 35
        }
      },
      "source": [
        "echo.echo_test()"
      ],
      "execution_count": 0,
      "outputs": [
        {
          "output_type": "stream",
          "text": [
            "echo\n"
          ],
          "name": "stdout"
        }
      ]
    },
    {
      "cell_type": "code",
      "metadata": {
        "id": "zX0c5nsiT16A",
        "colab_type": "code",
        "outputId": "b8f62a5f-c280-47f4-862c-09d590f446a7",
        "colab": {
          "base_uri": "https://localhost:8080/",
          "height": 35
        }
      },
      "source": [
        "from game.sound import *\n",
        "echo.echo_test()"
      ],
      "execution_count": 0,
      "outputs": [
        {
          "output_type": "stream",
          "text": [
            "echo\n"
          ],
          "name": "stdout"
        }
      ]
    },
    {
      "cell_type": "code",
      "metadata": {
        "id": "_qrmcm8oUXkM",
        "colab_type": "code",
        "colab": {}
      },
      "source": [
        ""
      ],
      "execution_count": 0,
      "outputs": []
    }
  ]
}